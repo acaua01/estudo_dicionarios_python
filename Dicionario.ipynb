{
 "cells": [
  {
   "cell_type": "markdown",
   "id": "91c34d89",
   "metadata": {},
   "source": [
    "# Dicionários"
   ]
  },
  {
   "cell_type": "code",
   "execution_count": 1,
   "id": "dea732e0",
   "metadata": {},
   "outputs": [],
   "source": [
    "# Criando um dicionário\n",
    "\n",
    "tabela = {\"Arroz\" : 0.5,\n",
    "          \"Batata\" : 0.2,\n",
    "          \"Carne\" : 0.1}"
   ]
  },
  {
   "cell_type": "code",
   "execution_count": 2,
   "id": "bb067c30",
   "metadata": {},
   "outputs": [
    {
     "name": "stdout",
     "output_type": "stream",
     "text": [
      "0.5\n"
     ]
    }
   ],
   "source": [
    "# Acessando dados do dicionário\n",
    "\n",
    "print(tabela[\"Arroz\"])"
   ]
  },
  {
   "cell_type": "code",
   "execution_count": 3,
   "id": "1ccda561",
   "metadata": {},
   "outputs": [
    {
     "name": "stdout",
     "output_type": "stream",
     "text": [
      "0.2\n"
     ]
    }
   ],
   "source": [
    "print(tabela[\"Batata\"])"
   ]
  },
  {
   "cell_type": "code",
   "execution_count": 4,
   "id": "f997a107",
   "metadata": {},
   "outputs": [
    {
     "ename": "KeyError",
     "evalue": "'Alface'",
     "output_type": "error",
     "traceback": [
      "\u001b[1;31m---------------------------------------------------------------------------\u001b[0m",
      "\u001b[1;31mKeyError\u001b[0m                                  Traceback (most recent call last)",
      "Cell \u001b[1;32mIn[4], line 3\u001b[0m\n\u001b[0;32m      1\u001b[0m \u001b[38;5;66;03m# Erro chave inexistente\u001b[39;00m\n\u001b[1;32m----> 3\u001b[0m \u001b[38;5;28mprint\u001b[39m(\u001b[43mtabela\u001b[49m\u001b[43m[\u001b[49m\u001b[38;5;124;43m\"\u001b[39;49m\u001b[38;5;124;43mAlface\u001b[39;49m\u001b[38;5;124;43m\"\u001b[39;49m\u001b[43m]\u001b[49m)\n",
      "\u001b[1;31mKeyError\u001b[0m: 'Alface'"
     ]
    }
   ],
   "source": [
    "# Erro chave inexistente\n",
    "\n",
    "print(tabela[\"Alface\"])"
   ]
  },
  {
   "cell_type": "code",
   "execution_count": 5,
   "id": "5cdaf7e9",
   "metadata": {},
   "outputs": [
    {
     "data": {
      "text/plain": [
       "3"
      ]
     },
     "execution_count": 5,
     "metadata": {},
     "output_type": "execute_result"
    }
   ],
   "source": [
    "len (tabela)"
   ]
  },
  {
   "cell_type": "code",
   "execution_count": 6,
   "id": "3e37872c",
   "metadata": {},
   "outputs": [],
   "source": [
    "# Modo Alternativo\n",
    "\n",
    "a = dict(feijao = 0.3, milho = 0.2, ervilha = 0.7)"
   ]
  },
  {
   "cell_type": "code",
   "execution_count": 8,
   "id": "c9a384c5",
   "metadata": {},
   "outputs": [
    {
     "name": "stdout",
     "output_type": "stream",
     "text": [
      "0.3\n"
     ]
    }
   ],
   "source": [
    "print(a[\"feijao\"])"
   ]
  },
  {
   "cell_type": "code",
   "execution_count": null,
   "id": "46040bef",
   "metadata": {},
   "outputs": [],
   "source": []
  },
  {
   "cell_type": "code",
   "execution_count": null,
   "id": "18fdbf1c",
   "metadata": {},
   "outputs": [],
   "source": []
  },
  {
   "cell_type": "code",
   "execution_count": null,
   "id": "f603217d",
   "metadata": {},
   "outputs": [],
   "source": []
  },
  {
   "cell_type": "code",
   "execution_count": null,
   "id": "f5419c60",
   "metadata": {},
   "outputs": [],
   "source": []
  },
  {
   "cell_type": "code",
   "execution_count": null,
   "id": "e9cfd363",
   "metadata": {},
   "outputs": [],
   "source": []
  }
 ],
 "metadata": {
  "kernelspec": {
   "display_name": "Python 3 (ipykernel)",
   "language": "python",
   "name": "python3"
  },
  "language_info": {
   "codemirror_mode": {
    "name": "ipython",
    "version": 3
   },
   "file_extension": ".py",
   "mimetype": "text/x-python",
   "name": "python",
   "nbconvert_exporter": "python",
   "pygments_lexer": "ipython3",
   "version": "3.10.9"
  }
 },
 "nbformat": 4,
 "nbformat_minor": 5
}
